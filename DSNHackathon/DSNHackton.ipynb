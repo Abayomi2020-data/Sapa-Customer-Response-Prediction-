{
 "cells": [
  {
   "cell_type": "code",
   "execution_count": 1,
   "metadata": {},
   "outputs": [],
   "source": [
    "## Importing required libraries\n",
    "\n",
    "import pandas as pd #for data preprocessing\n",
    "\n",
    "#Linear Algebra\n",
    "import numpy as np\n",
    "\n",
    "from lightgbm import LGBMRegressor, LGBMClassifier\n",
    "import imblearn\n",
    "from tqdm import tqdm_notebook\n",
    "\n",
    "## model building \n",
    "from sklearn.model_selection import KFold, cross_val_score\n",
    "\n",
    "#Evaluation Metrics\n",
    "from sklearn.metrics import  f1_score, classification_report, recall_score, precision_recall_fscore_support, precision_score\n",
    "\n",
    "#Import Datetime module\n",
    "from datetime import datetime\n",
    "\n",
    "from sklearn.preprocessing import LabelEncoder # for encoding categorical variables\n",
    "\n",
    "pd.set_option('max_column', 10000)\n",
    "pd.set_option('max_row', 10000)\n",
    "\n",
    "#Data Visualization Libraries\n",
    "\n",
    "import seaborn as sns\n",
    "import matplotlib.pyplot as plt\n",
    "%matplotlib inline\n",
    "plt.style.use('seaborn-darkgrid')\n",
    "\n",
    "#To ignore unnecessary warnings\n",
    "\n",
    "import warnings\n",
    "warnings.filterwarnings('ignore')"
   ]
  },
  {
   "cell_type": "code",
   "execution_count": 2,
   "metadata": {},
   "outputs": [],
   "source": [
    "# Load files\n",
    "train = pd.read_csv('Train.csv')\n",
    "test = pd.read_csv('Test.csv')\n",
    "sub = pd.read_csv('SampleSubmission.csv')"
   ]
  },
  {
   "cell_type": "code",
   "execution_count": 3,
   "metadata": {},
   "outputs": [],
   "source": [
    "a = train[train['Year_of_Birth']<1940].index\n",
    "train.drop(a, axis=0, inplace=True)\n",
    "train.reset_index(drop=True, inplace=True)"
   ]
  },
  {
   "cell_type": "code",
   "execution_count": 4,
   "metadata": {},
   "outputs": [],
   "source": [
    "len_train = len(train)\n",
    "df = pd.concat([train, test]).reset_index(drop=True)"
   ]
  },
  {
   "cell_type": "code",
   "execution_count": 5,
   "metadata": {},
   "outputs": [
    {
     "data": {
      "text/plain": [
       "ID                           0\n",
       "Year_of_Birth                0\n",
       "Education_Level              0\n",
       "Marital_Status               0\n",
       "Disposable_Income           24\n",
       "No_of_Kids_in_home           0\n",
       "No_of_Teen_in_home           0\n",
       "Date_Customer                0\n",
       "Recency                      0\n",
       "Discounted_Purchases         0\n",
       "WebPurchases                 0\n",
       "CatalogPurchases             0\n",
       "StorePurchases               0\n",
       "Amount_on_Wines              0\n",
       "Amount_on_Fruits             0\n",
       "Amount_on_MeatProducts       0\n",
       "Amount_on_FishProducts       0\n",
       "Amount_on_SweetProducts      0\n",
       "Amount_on_GoldProds          0\n",
       "WebVisitsMonth               0\n",
       "Cmp3Accepted                 0\n",
       "Cmp4Accepted                 0\n",
       "Cmp5Accepted                 0\n",
       "Cmp1Accepted                 0\n",
       "Cmp2Accepted                 0\n",
       "Any_Complain                 0\n",
       "Response                   672\n",
       "dtype: int64"
      ]
     },
     "execution_count": 5,
     "metadata": {},
     "output_type": "execute_result"
    }
   ],
   "source": [
    "###Checking for missing value\n",
    "df.isnull().sum()"
   ]
  },
  {
   "cell_type": "markdown",
   "metadata": {},
   "source": [
    "# Filling missing values"
   ]
  },
  {
   "cell_type": "code",
   "execution_count": 6,
   "metadata": {},
   "outputs": [],
   "source": [
    "df['Disposable_Income'] = df['Disposable_Income'].fillna(train['Disposable_Income'].median())"
   ]
  },
  {
   "cell_type": "code",
   "execution_count": 7,
   "metadata": {},
   "outputs": [],
   "source": [
    "#Convert Datetime\n",
    "df['Date_Customer'] = pd.to_datetime(df['Date_Customer'])"
   ]
  },
  {
   "cell_type": "code",
   "execution_count": 8,
   "metadata": {},
   "outputs": [],
   "source": [
    "df['enrollment_year'] = df['Date_Customer'].dt.year\n",
    "df['enrollment_month'] = df['Date_Customer'].dt.month\n",
    "df['enrollment_day'] = df['Date_Customer'].dt.day"
   ]
  },
  {
   "cell_type": "code",
   "execution_count": 9,
   "metadata": {},
   "outputs": [
    {
     "data": {
      "text/html": [
       "<div>\n",
       "<style scoped>\n",
       "    .dataframe tbody tr th:only-of-type {\n",
       "        vertical-align: middle;\n",
       "    }\n",
       "\n",
       "    .dataframe tbody tr th {\n",
       "        vertical-align: top;\n",
       "    }\n",
       "\n",
       "    .dataframe thead th {\n",
       "        text-align: right;\n",
       "    }\n",
       "</style>\n",
       "<table border=\"1\" class=\"dataframe\">\n",
       "  <thead>\n",
       "    <tr style=\"text-align: right;\">\n",
       "      <th></th>\n",
       "      <th>ID</th>\n",
       "      <th>Year_of_Birth</th>\n",
       "      <th>Education_Level</th>\n",
       "      <th>Marital_Status</th>\n",
       "      <th>Disposable_Income</th>\n",
       "      <th>No_of_Kids_in_home</th>\n",
       "      <th>No_of_Teen_in_home</th>\n",
       "      <th>Date_Customer</th>\n",
       "      <th>Recency</th>\n",
       "      <th>Discounted_Purchases</th>\n",
       "      <th>WebPurchases</th>\n",
       "      <th>CatalogPurchases</th>\n",
       "      <th>StorePurchases</th>\n",
       "      <th>Amount_on_Wines</th>\n",
       "      <th>Amount_on_Fruits</th>\n",
       "      <th>Amount_on_MeatProducts</th>\n",
       "      <th>Amount_on_FishProducts</th>\n",
       "      <th>Amount_on_SweetProducts</th>\n",
       "      <th>Amount_on_GoldProds</th>\n",
       "      <th>WebVisitsMonth</th>\n",
       "      <th>Cmp3Accepted</th>\n",
       "      <th>Cmp4Accepted</th>\n",
       "      <th>Cmp5Accepted</th>\n",
       "      <th>Cmp1Accepted</th>\n",
       "      <th>Cmp2Accepted</th>\n",
       "      <th>Any_Complain</th>\n",
       "      <th>Response</th>\n",
       "      <th>enrollment_year</th>\n",
       "      <th>enrollment_month</th>\n",
       "      <th>enrollment_day</th>\n",
       "    </tr>\n",
       "  </thead>\n",
       "  <tbody>\n",
       "    <tr>\n",
       "      <th>0</th>\n",
       "      <td>ID_4A9AR6FQ</td>\n",
       "      <td>1955</td>\n",
       "      <td>Graduation</td>\n",
       "      <td>Divorced</td>\n",
       "      <td>77504.4</td>\n",
       "      <td>1</td>\n",
       "      <td>1</td>\n",
       "      <td>2014-06-22</td>\n",
       "      <td>56</td>\n",
       "      <td>2</td>\n",
       "      <td>1</td>\n",
       "      <td>1</td>\n",
       "      <td>4</td>\n",
       "      <td>71</td>\n",
       "      <td>3</td>\n",
       "      <td>16</td>\n",
       "      <td>0</td>\n",
       "      <td>6</td>\n",
       "      <td>20</td>\n",
       "      <td>3</td>\n",
       "      <td>0</td>\n",
       "      <td>0</td>\n",
       "      <td>0</td>\n",
       "      <td>0</td>\n",
       "      <td>0</td>\n",
       "      <td>0</td>\n",
       "      <td>0.0</td>\n",
       "      <td>2014</td>\n",
       "      <td>6</td>\n",
       "      <td>22</td>\n",
       "    </tr>\n",
       "    <tr>\n",
       "      <th>1</th>\n",
       "      <td>ID_X28T3VEK</td>\n",
       "      <td>1958</td>\n",
       "      <td>Graduation</td>\n",
       "      <td>Together</td>\n",
       "      <td>56784.0</td>\n",
       "      <td>0</td>\n",
       "      <td>1</td>\n",
       "      <td>2013-01-08</td>\n",
       "      <td>17</td>\n",
       "      <td>6</td>\n",
       "      <td>5</td>\n",
       "      <td>1</td>\n",
       "      <td>8</td>\n",
       "      <td>205</td>\n",
       "      <td>22</td>\n",
       "      <td>111</td>\n",
       "      <td>50</td>\n",
       "      <td>15</td>\n",
       "      <td>19</td>\n",
       "      <td>6</td>\n",
       "      <td>0</td>\n",
       "      <td>0</td>\n",
       "      <td>0</td>\n",
       "      <td>0</td>\n",
       "      <td>0</td>\n",
       "      <td>0</td>\n",
       "      <td>0.0</td>\n",
       "      <td>2013</td>\n",
       "      <td>1</td>\n",
       "      <td>8</td>\n",
       "    </tr>\n",
       "    <tr>\n",
       "      <th>2</th>\n",
       "      <td>ID_AWXARH57</td>\n",
       "      <td>1962</td>\n",
       "      <td>Graduation</td>\n",
       "      <td>Single</td>\n",
       "      <td>103714.8</td>\n",
       "      <td>0</td>\n",
       "      <td>0</td>\n",
       "      <td>2013-11-21</td>\n",
       "      <td>17</td>\n",
       "      <td>0</td>\n",
       "      <td>7</td>\n",
       "      <td>4</td>\n",
       "      <td>7</td>\n",
       "      <td>469</td>\n",
       "      <td>31</td>\n",
       "      <td>873</td>\n",
       "      <td>29</td>\n",
       "      <td>18</td>\n",
       "      <td>37</td>\n",
       "      <td>2</td>\n",
       "      <td>0</td>\n",
       "      <td>0</td>\n",
       "      <td>0</td>\n",
       "      <td>1</td>\n",
       "      <td>0</td>\n",
       "      <td>0</td>\n",
       "      <td>1.0</td>\n",
       "      <td>2013</td>\n",
       "      <td>11</td>\n",
       "      <td>21</td>\n",
       "    </tr>\n",
       "    <tr>\n",
       "      <th>3</th>\n",
       "      <td>ID_FQVZHE81</td>\n",
       "      <td>1979</td>\n",
       "      <td>2n Cycle</td>\n",
       "      <td>Single</td>\n",
       "      <td>46311.6</td>\n",
       "      <td>1</td>\n",
       "      <td>0</td>\n",
       "      <td>2013-09-13</td>\n",
       "      <td>49</td>\n",
       "      <td>3</td>\n",
       "      <td>4</td>\n",
       "      <td>1</td>\n",
       "      <td>3</td>\n",
       "      <td>56</td>\n",
       "      <td>15</td>\n",
       "      <td>49</td>\n",
       "      <td>17</td>\n",
       "      <td>24</td>\n",
       "      <td>24</td>\n",
       "      <td>8</td>\n",
       "      <td>0</td>\n",
       "      <td>0</td>\n",
       "      <td>0</td>\n",
       "      <td>0</td>\n",
       "      <td>0</td>\n",
       "      <td>0</td>\n",
       "      <td>0.0</td>\n",
       "      <td>2013</td>\n",
       "      <td>9</td>\n",
       "      <td>13</td>\n",
       "    </tr>\n",
       "    <tr>\n",
       "      <th>4</th>\n",
       "      <td>ID_QVLWGPRN</td>\n",
       "      <td>1959</td>\n",
       "      <td>Graduation</td>\n",
       "      <td>Married</td>\n",
       "      <td>87486.0</td>\n",
       "      <td>0</td>\n",
       "      <td>0</td>\n",
       "      <td>2014-01-21</td>\n",
       "      <td>59</td>\n",
       "      <td>1</td>\n",
       "      <td>3</td>\n",
       "      <td>7</td>\n",
       "      <td>9</td>\n",
       "      <td>412</td>\n",
       "      <td>117</td>\n",
       "      <td>445</td>\n",
       "      <td>181</td>\n",
       "      <td>165</td>\n",
       "      <td>203</td>\n",
       "      <td>1</td>\n",
       "      <td>0</td>\n",
       "      <td>0</td>\n",
       "      <td>0</td>\n",
       "      <td>1</td>\n",
       "      <td>0</td>\n",
       "      <td>0</td>\n",
       "      <td>0.0</td>\n",
       "      <td>2014</td>\n",
       "      <td>1</td>\n",
       "      <td>21</td>\n",
       "    </tr>\n",
       "  </tbody>\n",
       "</table>\n",
       "</div>"
      ],
      "text/plain": [
       "            ID  Year_of_Birth Education_Level Marital_Status  \\\n",
       "0  ID_4A9AR6FQ           1955      Graduation       Divorced   \n",
       "1  ID_X28T3VEK           1958      Graduation       Together   \n",
       "2  ID_AWXARH57           1962      Graduation         Single   \n",
       "3  ID_FQVZHE81           1979        2n Cycle         Single   \n",
       "4  ID_QVLWGPRN           1959      Graduation        Married   \n",
       "\n",
       "   Disposable_Income  No_of_Kids_in_home  No_of_Teen_in_home Date_Customer  \\\n",
       "0            77504.4                   1                   1    2014-06-22   \n",
       "1            56784.0                   0                   1    2013-01-08   \n",
       "2           103714.8                   0                   0    2013-11-21   \n",
       "3            46311.6                   1                   0    2013-09-13   \n",
       "4            87486.0                   0                   0    2014-01-21   \n",
       "\n",
       "   Recency  Discounted_Purchases  WebPurchases  CatalogPurchases  \\\n",
       "0       56                     2             1                 1   \n",
       "1       17                     6             5                 1   \n",
       "2       17                     0             7                 4   \n",
       "3       49                     3             4                 1   \n",
       "4       59                     1             3                 7   \n",
       "\n",
       "   StorePurchases  Amount_on_Wines  Amount_on_Fruits  Amount_on_MeatProducts  \\\n",
       "0               4               71                 3                      16   \n",
       "1               8              205                22                     111   \n",
       "2               7              469                31                     873   \n",
       "3               3               56                15                      49   \n",
       "4               9              412               117                     445   \n",
       "\n",
       "   Amount_on_FishProducts  Amount_on_SweetProducts  Amount_on_GoldProds  \\\n",
       "0                       0                        6                   20   \n",
       "1                      50                       15                   19   \n",
       "2                      29                       18                   37   \n",
       "3                      17                       24                   24   \n",
       "4                     181                      165                  203   \n",
       "\n",
       "   WebVisitsMonth  Cmp3Accepted  Cmp4Accepted  Cmp5Accepted  Cmp1Accepted  \\\n",
       "0               3             0             0             0             0   \n",
       "1               6             0             0             0             0   \n",
       "2               2             0             0             0             1   \n",
       "3               8             0             0             0             0   \n",
       "4               1             0             0             0             1   \n",
       "\n",
       "   Cmp2Accepted  Any_Complain  Response  enrollment_year  enrollment_month  \\\n",
       "0             0             0       0.0             2014                 6   \n",
       "1             0             0       0.0             2013                 1   \n",
       "2             0             0       1.0             2013                11   \n",
       "3             0             0       0.0             2013                 9   \n",
       "4             0             0       0.0             2014                 1   \n",
       "\n",
       "   enrollment_day  \n",
       "0              22  \n",
       "1               8  \n",
       "2              21  \n",
       "3              13  \n",
       "4              21  "
      ]
     },
     "execution_count": 9,
     "metadata": {},
     "output_type": "execute_result"
    }
   ],
   "source": [
    "df.head()"
   ]
  },
  {
   "cell_type": "code",
   "execution_count": 10,
   "metadata": {},
   "outputs": [],
   "source": [
    "## splitting the dataframe into test and train dataframe\n",
    "\n",
    "train = df[:len_train]\n",
    "test = df[len_train:]"
   ]
  },
  {
   "cell_type": "code",
   "execution_count": 11,
   "metadata": {},
   "outputs": [
    {
     "data": {
      "text/html": [
       "<div>\n",
       "<style scoped>\n",
       "    .dataframe tbody tr th:only-of-type {\n",
       "        vertical-align: middle;\n",
       "    }\n",
       "\n",
       "    .dataframe tbody tr th {\n",
       "        vertical-align: top;\n",
       "    }\n",
       "\n",
       "    .dataframe thead th {\n",
       "        text-align: right;\n",
       "    }\n",
       "</style>\n",
       "<table border=\"1\" class=\"dataframe\">\n",
       "  <thead>\n",
       "    <tr style=\"text-align: right;\">\n",
       "      <th></th>\n",
       "      <th>ID</th>\n",
       "      <th>Year_of_Birth</th>\n",
       "      <th>Education_Level</th>\n",
       "      <th>Marital_Status</th>\n",
       "      <th>Disposable_Income</th>\n",
       "      <th>No_of_Kids_in_home</th>\n",
       "      <th>No_of_Teen_in_home</th>\n",
       "      <th>Date_Customer</th>\n",
       "      <th>Recency</th>\n",
       "      <th>Discounted_Purchases</th>\n",
       "      <th>WebPurchases</th>\n",
       "      <th>CatalogPurchases</th>\n",
       "      <th>StorePurchases</th>\n",
       "      <th>Amount_on_Wines</th>\n",
       "      <th>Amount_on_Fruits</th>\n",
       "      <th>Amount_on_MeatProducts</th>\n",
       "      <th>Amount_on_FishProducts</th>\n",
       "      <th>Amount_on_SweetProducts</th>\n",
       "      <th>Amount_on_GoldProds</th>\n",
       "      <th>WebVisitsMonth</th>\n",
       "      <th>Cmp3Accepted</th>\n",
       "      <th>Cmp4Accepted</th>\n",
       "      <th>Cmp5Accepted</th>\n",
       "      <th>Cmp1Accepted</th>\n",
       "      <th>Cmp2Accepted</th>\n",
       "      <th>Any_Complain</th>\n",
       "      <th>Response</th>\n",
       "      <th>enrollment_year</th>\n",
       "      <th>enrollment_month</th>\n",
       "      <th>enrollment_day</th>\n",
       "    </tr>\n",
       "  </thead>\n",
       "  <tbody>\n",
       "    <tr>\n",
       "      <th>0</th>\n",
       "      <td>ID_4A9AR6FQ</td>\n",
       "      <td>1955</td>\n",
       "      <td>Graduation</td>\n",
       "      <td>Divorced</td>\n",
       "      <td>77504.4</td>\n",
       "      <td>1</td>\n",
       "      <td>1</td>\n",
       "      <td>2014-06-22</td>\n",
       "      <td>56</td>\n",
       "      <td>2</td>\n",
       "      <td>1</td>\n",
       "      <td>1</td>\n",
       "      <td>4</td>\n",
       "      <td>71</td>\n",
       "      <td>3</td>\n",
       "      <td>16</td>\n",
       "      <td>0</td>\n",
       "      <td>6</td>\n",
       "      <td>20</td>\n",
       "      <td>3</td>\n",
       "      <td>0</td>\n",
       "      <td>0</td>\n",
       "      <td>0</td>\n",
       "      <td>0</td>\n",
       "      <td>0</td>\n",
       "      <td>0</td>\n",
       "      <td>0.0</td>\n",
       "      <td>2014</td>\n",
       "      <td>6</td>\n",
       "      <td>22</td>\n",
       "    </tr>\n",
       "    <tr>\n",
       "      <th>1</th>\n",
       "      <td>ID_X28T3VEK</td>\n",
       "      <td>1958</td>\n",
       "      <td>Graduation</td>\n",
       "      <td>Together</td>\n",
       "      <td>56784.0</td>\n",
       "      <td>0</td>\n",
       "      <td>1</td>\n",
       "      <td>2013-01-08</td>\n",
       "      <td>17</td>\n",
       "      <td>6</td>\n",
       "      <td>5</td>\n",
       "      <td>1</td>\n",
       "      <td>8</td>\n",
       "      <td>205</td>\n",
       "      <td>22</td>\n",
       "      <td>111</td>\n",
       "      <td>50</td>\n",
       "      <td>15</td>\n",
       "      <td>19</td>\n",
       "      <td>6</td>\n",
       "      <td>0</td>\n",
       "      <td>0</td>\n",
       "      <td>0</td>\n",
       "      <td>0</td>\n",
       "      <td>0</td>\n",
       "      <td>0</td>\n",
       "      <td>0.0</td>\n",
       "      <td>2013</td>\n",
       "      <td>1</td>\n",
       "      <td>8</td>\n",
       "    </tr>\n",
       "    <tr>\n",
       "      <th>2</th>\n",
       "      <td>ID_AWXARH57</td>\n",
       "      <td>1962</td>\n",
       "      <td>Graduation</td>\n",
       "      <td>Single</td>\n",
       "      <td>103714.8</td>\n",
       "      <td>0</td>\n",
       "      <td>0</td>\n",
       "      <td>2013-11-21</td>\n",
       "      <td>17</td>\n",
       "      <td>0</td>\n",
       "      <td>7</td>\n",
       "      <td>4</td>\n",
       "      <td>7</td>\n",
       "      <td>469</td>\n",
       "      <td>31</td>\n",
       "      <td>873</td>\n",
       "      <td>29</td>\n",
       "      <td>18</td>\n",
       "      <td>37</td>\n",
       "      <td>2</td>\n",
       "      <td>0</td>\n",
       "      <td>0</td>\n",
       "      <td>0</td>\n",
       "      <td>1</td>\n",
       "      <td>0</td>\n",
       "      <td>0</td>\n",
       "      <td>1.0</td>\n",
       "      <td>2013</td>\n",
       "      <td>11</td>\n",
       "      <td>21</td>\n",
       "    </tr>\n",
       "    <tr>\n",
       "      <th>3</th>\n",
       "      <td>ID_FQVZHE81</td>\n",
       "      <td>1979</td>\n",
       "      <td>2n Cycle</td>\n",
       "      <td>Single</td>\n",
       "      <td>46311.6</td>\n",
       "      <td>1</td>\n",
       "      <td>0</td>\n",
       "      <td>2013-09-13</td>\n",
       "      <td>49</td>\n",
       "      <td>3</td>\n",
       "      <td>4</td>\n",
       "      <td>1</td>\n",
       "      <td>3</td>\n",
       "      <td>56</td>\n",
       "      <td>15</td>\n",
       "      <td>49</td>\n",
       "      <td>17</td>\n",
       "      <td>24</td>\n",
       "      <td>24</td>\n",
       "      <td>8</td>\n",
       "      <td>0</td>\n",
       "      <td>0</td>\n",
       "      <td>0</td>\n",
       "      <td>0</td>\n",
       "      <td>0</td>\n",
       "      <td>0</td>\n",
       "      <td>0.0</td>\n",
       "      <td>2013</td>\n",
       "      <td>9</td>\n",
       "      <td>13</td>\n",
       "    </tr>\n",
       "    <tr>\n",
       "      <th>4</th>\n",
       "      <td>ID_QVLWGPRN</td>\n",
       "      <td>1959</td>\n",
       "      <td>Graduation</td>\n",
       "      <td>Married</td>\n",
       "      <td>87486.0</td>\n",
       "      <td>0</td>\n",
       "      <td>0</td>\n",
       "      <td>2014-01-21</td>\n",
       "      <td>59</td>\n",
       "      <td>1</td>\n",
       "      <td>3</td>\n",
       "      <td>7</td>\n",
       "      <td>9</td>\n",
       "      <td>412</td>\n",
       "      <td>117</td>\n",
       "      <td>445</td>\n",
       "      <td>181</td>\n",
       "      <td>165</td>\n",
       "      <td>203</td>\n",
       "      <td>1</td>\n",
       "      <td>0</td>\n",
       "      <td>0</td>\n",
       "      <td>0</td>\n",
       "      <td>1</td>\n",
       "      <td>0</td>\n",
       "      <td>0</td>\n",
       "      <td>0.0</td>\n",
       "      <td>2014</td>\n",
       "      <td>1</td>\n",
       "      <td>21</td>\n",
       "    </tr>\n",
       "  </tbody>\n",
       "</table>\n",
       "</div>"
      ],
      "text/plain": [
       "            ID  Year_of_Birth Education_Level Marital_Status  \\\n",
       "0  ID_4A9AR6FQ           1955      Graduation       Divorced   \n",
       "1  ID_X28T3VEK           1958      Graduation       Together   \n",
       "2  ID_AWXARH57           1962      Graduation         Single   \n",
       "3  ID_FQVZHE81           1979        2n Cycle         Single   \n",
       "4  ID_QVLWGPRN           1959      Graduation        Married   \n",
       "\n",
       "   Disposable_Income  No_of_Kids_in_home  No_of_Teen_in_home Date_Customer  \\\n",
       "0            77504.4                   1                   1    2014-06-22   \n",
       "1            56784.0                   0                   1    2013-01-08   \n",
       "2           103714.8                   0                   0    2013-11-21   \n",
       "3            46311.6                   1                   0    2013-09-13   \n",
       "4            87486.0                   0                   0    2014-01-21   \n",
       "\n",
       "   Recency  Discounted_Purchases  WebPurchases  CatalogPurchases  \\\n",
       "0       56                     2             1                 1   \n",
       "1       17                     6             5                 1   \n",
       "2       17                     0             7                 4   \n",
       "3       49                     3             4                 1   \n",
       "4       59                     1             3                 7   \n",
       "\n",
       "   StorePurchases  Amount_on_Wines  Amount_on_Fruits  Amount_on_MeatProducts  \\\n",
       "0               4               71                 3                      16   \n",
       "1               8              205                22                     111   \n",
       "2               7              469                31                     873   \n",
       "3               3               56                15                      49   \n",
       "4               9              412               117                     445   \n",
       "\n",
       "   Amount_on_FishProducts  Amount_on_SweetProducts  Amount_on_GoldProds  \\\n",
       "0                       0                        6                   20   \n",
       "1                      50                       15                   19   \n",
       "2                      29                       18                   37   \n",
       "3                      17                       24                   24   \n",
       "4                     181                      165                  203   \n",
       "\n",
       "   WebVisitsMonth  Cmp3Accepted  Cmp4Accepted  Cmp5Accepted  Cmp1Accepted  \\\n",
       "0               3             0             0             0             0   \n",
       "1               6             0             0             0             0   \n",
       "2               2             0             0             0             1   \n",
       "3               8             0             0             0             0   \n",
       "4               1             0             0             0             1   \n",
       "\n",
       "   Cmp2Accepted  Any_Complain  Response  enrollment_year  enrollment_month  \\\n",
       "0             0             0       0.0             2014                 6   \n",
       "1             0             0       0.0             2013                 1   \n",
       "2             0             0       1.0             2013                11   \n",
       "3             0             0       0.0             2013                 9   \n",
       "4             0             0       0.0             2014                 1   \n",
       "\n",
       "   enrollment_day  \n",
       "0              22  \n",
       "1               8  \n",
       "2              21  \n",
       "3              13  \n",
       "4              21  "
      ]
     },
     "execution_count": 11,
     "metadata": {},
     "output_type": "execute_result"
    }
   ],
   "source": [
    "#Read the first 5 columns of the train set\n",
    "train.head()"
   ]
  },
  {
   "cell_type": "code",
   "execution_count": 12,
   "metadata": {},
   "outputs": [
    {
     "name": "stdout",
     "output_type": "stream",
     "text": [
      "<class 'pandas.core.frame.DataFrame'>\n",
      "RangeIndex: 1567 entries, 0 to 1566\n",
      "Data columns (total 30 columns):\n",
      " #   Column                   Non-Null Count  Dtype         \n",
      "---  ------                   --------------  -----         \n",
      " 0   ID                       1567 non-null   object        \n",
      " 1   Year_of_Birth            1567 non-null   int64         \n",
      " 2   Education_Level          1567 non-null   object        \n",
      " 3   Marital_Status           1567 non-null   object        \n",
      " 4   Disposable_Income        1567 non-null   float64       \n",
      " 5   No_of_Kids_in_home       1567 non-null   int64         \n",
      " 6   No_of_Teen_in_home       1567 non-null   int64         \n",
      " 7   Date_Customer            1567 non-null   datetime64[ns]\n",
      " 8   Recency                  1567 non-null   int64         \n",
      " 9   Discounted_Purchases     1567 non-null   int64         \n",
      " 10  WebPurchases             1567 non-null   int64         \n",
      " 11  CatalogPurchases         1567 non-null   int64         \n",
      " 12  StorePurchases           1567 non-null   int64         \n",
      " 13  Amount_on_Wines          1567 non-null   int64         \n",
      " 14  Amount_on_Fruits         1567 non-null   int64         \n",
      " 15  Amount_on_MeatProducts   1567 non-null   int64         \n",
      " 16  Amount_on_FishProducts   1567 non-null   int64         \n",
      " 17  Amount_on_SweetProducts  1567 non-null   int64         \n",
      " 18  Amount_on_GoldProds      1567 non-null   int64         \n",
      " 19  WebVisitsMonth           1567 non-null   int64         \n",
      " 20  Cmp3Accepted             1567 non-null   int64         \n",
      " 21  Cmp4Accepted             1567 non-null   int64         \n",
      " 22  Cmp5Accepted             1567 non-null   int64         \n",
      " 23  Cmp1Accepted             1567 non-null   int64         \n",
      " 24  Cmp2Accepted             1567 non-null   int64         \n",
      " 25  Any_Complain             1567 non-null   int64         \n",
      " 26  Response                 1567 non-null   float64       \n",
      " 27  enrollment_year          1567 non-null   int64         \n",
      " 28  enrollment_month         1567 non-null   int64         \n",
      " 29  enrollment_day           1567 non-null   int64         \n",
      "dtypes: datetime64[ns](1), float64(2), int64(24), object(3)\n",
      "memory usage: 367.4+ KB\n"
     ]
    }
   ],
   "source": [
    "#We can also use the .info method\n",
    "train.info()"
   ]
  },
  {
   "cell_type": "code",
   "execution_count": 13,
   "metadata": {},
   "outputs": [
    {
     "name": "stdout",
     "output_type": "stream",
     "text": [
      "The Categorical Columns are: Index(['ID', 'Education_Level', 'Marital_Status'], dtype='object')\n",
      "The Numerical Columns are: ['Year_of_Birth', 'Disposable_Income', 'No_of_Kids_in_home', 'No_of_Teen_in_home', 'Date_Customer', 'Recency', 'Discounted_Purchases', 'WebPurchases', 'CatalogPurchases', 'StorePurchases', 'Amount_on_Wines', 'Amount_on_Fruits', 'Amount_on_MeatProducts', 'Amount_on_FishProducts', 'Amount_on_SweetProducts', 'Amount_on_GoldProds', 'WebVisitsMonth', 'Cmp3Accepted', 'Cmp4Accepted', 'Cmp5Accepted', 'Cmp1Accepted', 'Cmp2Accepted', 'Any_Complain', 'Response', 'enrollment_year', 'enrollment_month', 'enrollment_day']\n"
     ]
    }
   ],
   "source": [
    "# We can separate catgorical and numerical column\n",
    "#categ_cols == categorical columns . Date column excluded\n",
    "categ_cols = train.select_dtypes(include=['object', 'category']).columns\n",
    "\n",
    "# num column == numerical columns + date column included\n",
    "num_cols = [col for col in train.columns if col not in categ_cols]\n",
    "print(f'The Categorical Columns are: {categ_cols}')\n",
    "print(f'The Numerical Columns are: {num_cols}')"
   ]
  },
  {
   "cell_type": "code",
   "execution_count": 14,
   "metadata": {},
   "outputs": [
    {
     "name": "stdout",
     "output_type": "stream",
     "text": [
      "Unique entries in the ID column in the train set is: 1567\n",
      "and the unique entries are: ['ID_4A9AR6FQ' 'ID_X28T3VEK' 'ID_AWXARH57' ... 'ID_O11VSIJY' 'ID_VS37P6MS'\n",
      " 'ID_AKHOY7EI']\n",
      "Unique entries in the Education_Level column in the train set is: 5\n",
      "and the unique entries are: ['Graduation' '2n Cycle' 'Master' 'PhD' 'Basic']\n",
      "Unique entries in the Marital_Status column in the train set is: 8\n",
      "and the unique entries are: ['Divorced' 'Together' 'Single' 'Married' 'Widow' 'Alone' 'Absurd' 'YOLO']\n"
     ]
    }
   ],
   "source": [
    "for col in categ_cols:\n",
    "    print(f'Unique entries in the {col} column in the train set is: {train[col].nunique()}')\n",
    "    print(f'and the unique entries are: {train[col].unique()}')"
   ]
  },
  {
   "cell_type": "markdown",
   "metadata": {},
   "source": [
    "## Also check unique entries in Target column"
   ]
  },
  {
   "cell_type": "code",
   "execution_count": 15,
   "metadata": {},
   "outputs": [
    {
     "name": "stdout",
     "output_type": "stream",
     "text": [
      "Unique entries in the Target column in  is: 2\n",
      "and the unique entries are: [0. 1.]\n"
     ]
    }
   ],
   "source": [
    "print(f'Unique entries in the Target column in  is: {train.Response.nunique()}')\n",
    "print(f'and the unique entries are: {train.Response.unique()}')"
   ]
  },
  {
   "cell_type": "markdown",
   "metadata": {},
   "source": [
    "## A visualization of some features of the train data "
   ]
  },
  {
   "cell_type": "code",
   "execution_count": 16,
   "metadata": {},
   "outputs": [
    {
     "data": {
      "image/png": "[encoded data removed]",
      "text/plain": [
       "<Figure size 432x288 with 1 Axes>"
      ]
     },
     "metadata": {},
     "output_type": "display_data"
    }
   ],
   "source": [
    "train.Response.value_counts().plot(kind='bar')\n",
    "plt.show()"
   ]
  },
  {
   "cell_type": "code",
   "execution_count": 17,
   "metadata": {},
   "outputs": [
    {
     "data": {
      "image/png": "[encoded data removed]",
      "text/plain": [
       "<Figure size 432x288 with 1 Axes>"
      ]
     },
     "metadata": {},
     "output_type": "display_data"
    }
   ],
   "source": [
    "train.Education_Level.value_counts().plot(kind=\"pie\")\n",
    "plt.show()"
   ]
  },
  {
   "cell_type": "code",
   "execution_count": 18,
   "metadata": {},
   "outputs": [
    {
     "data": {
      "text/plain": [
       "<AxesSubplot:>"
      ]
     },
     "execution_count": 18,
     "metadata": {},
     "output_type": "execute_result"
    },
    {
     "data": {
      "image/png": "[encoded data removed]",
      "text/plain": [
       "<Figure size 432x288 with 1 Axes>"
      ]
     },
     "metadata": {},
     "output_type": "display_data"
    }
   ],
   "source": [
    "train.Marital_Status.value_counts().plot(kind=\"bar\")"
   ]
  },
  {
   "cell_type": "markdown",
   "metadata": {},
   "source": [
    "# Encoding Categorical Variables"
   ]
  },
  {
   "cell_type": "code",
   "execution_count": 25,
   "metadata": {},
   "outputs": [],
   "source": [
    "cat_col = ['Education_Level','Marital_Status']\n",
    "\n",
    "for i in cat_col:\n",
    "    le = LabelEncoder()\n",
    "    df[i] = le.fit_transform(df[i])"
   ]
  },
  {
   "cell_type": "code",
   "execution_count": 26,
   "metadata": {},
   "outputs": [],
   "source": [
    "cat_col = ['Education_Level','Marital_Status']\n",
    "\n",
    "for i in cat_col:\n",
    "    le = LabelEncoder()\n",
    "    train[i] = le.fit_transform(train[i])"
   ]
  },
  {
   "cell_type": "code",
   "execution_count": 27,
   "metadata": {},
   "outputs": [],
   "source": [
    "cat_col = ['Education_Level','Marital_Status']\n",
    "\n",
    "for i in cat_col:\n",
    "    le = LabelEncoder()\n",
    "    test[i] = le.fit_transform(test[i])"
   ]
  },
  {
   "cell_type": "code",
   "execution_count": 28,
   "metadata": {},
   "outputs": [],
   "source": [
    "## splitting the train dataframe into x and y for dependent and independent features \n",
    "\n",
    "X = train.drop(columns=['ID','Date_Customer','Response'])\n",
    "y = train['Response']\n",
    "tes = test.drop(columns=['ID','Date_Customer','Response'])"
   ]
  },
  {
   "cell_type": "code",
   "execution_count": 29,
   "metadata": {},
   "outputs": [
    {
     "data": {
      "text/plain": [
       "0.0    1328\n",
       "1.0     239\n",
       "Name: Response, dtype: int64"
      ]
     },
     "execution_count": 29,
     "metadata": {},
     "output_type": "execute_result"
    }
   ],
   "source": [
    "## value count of target feature\n",
    "y.value_counts()"
   ]
  },
  {
   "cell_type": "code",
   "execution_count": 30,
   "metadata": {},
   "outputs": [],
   "source": [
    "from imblearn.over_sampling import SMOTE\n",
    "seed = 50\n",
    "sm = SMOTE(sampling_strategy={1:280, 0:1328}, random_state=seed) \n",
    "X_, y_ = sm.fit_resample(X, y)"
   ]
  },
  {
   "cell_type": "markdown",
   "metadata": {},
   "source": [
    "# Modeling"
   ]
  },
  {
   "cell_type": "code",
   "execution_count": 32,
   "metadata": {},
   "outputs": [
    {
     "name": "stdout",
     "output_type": "stream",
     "text": [
      "\n",
      "Fold 1 Val score: 0.6722689075630253\n",
      "\n",
      "\n",
      "Fold 2 Val score: 0.689655172413793\n",
      "\n",
      "\n",
      "Fold 3 Val score: 0.6470588235294118\n",
      "\n",
      "\n",
      "Fold 4 Val score: 0.6181818181818182\n",
      "\n",
      "\n",
      "Fold 5 Val score: 0.723076923076923\n",
      "\n",
      "Wall time: 1.58 s\n"
     ]
    }
   ],
   "source": [
    "%%time\n",
    "from sklearn.ensemble import RandomForestClassifier\n",
    "folds = KFold(n_splits=5, shuffle=True, random_state=1234)\n",
    "oofs = np.zeros((len(X_)))\n",
    "preds = np.zeros((len(tes)))\n",
    "\n",
    "for fold_, (trn_idx, val_idx) in enumerate(folds.split(X_, y_)):\n",
    "    \n",
    "    X_trn, y_trn = X_.iloc[trn_idx], y_.iloc[trn_idx]\n",
    "    X_val, y_val = X_.iloc[val_idx], y_.iloc[val_idx]\n",
    "    \n",
    "    \n",
    "    clf = LGBMClassifier(learning_rate=0.2, n_estimators=1000, scale_pos_weight=4, max_depth=-1, colsample_bytree=0.7, subsample=0.85, reg_alpha=3, reg_lambda=20)\n",
    "    clf.fit(X_trn, y_trn, eval_set = [(X_val, y_val)],\n",
    "                    verbose = 0, early_stopping_rounds=200)\n",
    "    \n",
    "    vp = clf.predict_proba(X_val)[:,1]\n",
    "    b = pd.DataFrame(vp)\n",
    "    b[0] = np.where(b[0]>0.5, 1, 0)\n",
    "    val_score = f1_score((y_val), (b[0]))\n",
    "    \n",
    "    print(f'\\nFold {fold_+1} Val score: {val_score}\\n')\n",
    "    \n",
    "    tp = clf.predict_proba(tes)[:,1]\n",
    "    \n",
    "    oofs[val_idx] = vp\n",
    "    preds += tp/5"
   ]
  },
  {
   "cell_type": "code",
   "execution_count": 33,
   "metadata": {},
   "outputs": [
    {
     "name": "stdout",
     "output_type": "stream",
     "text": [
      "\n",
      "OOF F1 score is : 0.6724436741767764\n"
     ]
    }
   ],
   "source": [
    "a = pd.DataFrame(oofs)\n",
    "a[0] = np.where(a[0]>0.5, 1, 0)\n",
    "oof_score = f1_score((y_), (a[0]))\n",
    "print(f'\\nOOF F1 score is : {oof_score}')"
   ]
  },
  {
   "cell_type": "code",
   "execution_count": 36,
   "metadata": {},
   "outputs": [],
   "source": [
    "sub['Response'] = preds"
   ]
  },
  {
   "cell_type": "code",
   "execution_count": 37,
   "metadata": {},
   "outputs": [
    {
     "data": {
      "text/html": [
       "<div>\n",
       "<style scoped>\n",
       "    .dataframe tbody tr th:only-of-type {\n",
       "        vertical-align: middle;\n",
       "    }\n",
       "\n",
       "    .dataframe tbody tr th {\n",
       "        vertical-align: top;\n",
       "    }\n",
       "\n",
       "    .dataframe thead th {\n",
       "        text-align: right;\n",
       "    }\n",
       "</style>\n",
       "<table border=\"1\" class=\"dataframe\">\n",
       "  <thead>\n",
       "    <tr style=\"text-align: right;\">\n",
       "      <th></th>\n",
       "      <th>ID</th>\n",
       "      <th>Response</th>\n",
       "    </tr>\n",
       "  </thead>\n",
       "  <tbody>\n",
       "    <tr>\n",
       "      <th>0</th>\n",
       "      <td>ID_ZPMABNVX</td>\n",
       "      <td>0.045521</td>\n",
       "    </tr>\n",
       "    <tr>\n",
       "      <th>1</th>\n",
       "      <td>ID_WFE91NAA</td>\n",
       "      <td>0.339706</td>\n",
       "    </tr>\n",
       "    <tr>\n",
       "      <th>2</th>\n",
       "      <td>ID_JV11RBRK</td>\n",
       "      <td>0.034930</td>\n",
       "    </tr>\n",
       "    <tr>\n",
       "      <th>3</th>\n",
       "      <td>ID_6B7SVKY9</td>\n",
       "      <td>0.705636</td>\n",
       "    </tr>\n",
       "    <tr>\n",
       "      <th>4</th>\n",
       "      <td>ID_GOVUZ545</td>\n",
       "      <td>0.258080</td>\n",
       "    </tr>\n",
       "  </tbody>\n",
       "</table>\n",
       "</div>"
      ],
      "text/plain": [
       "            ID  Response\n",
       "0  ID_ZPMABNVX  0.045521\n",
       "1  ID_WFE91NAA  0.339706\n",
       "2  ID_JV11RBRK  0.034930\n",
       "3  ID_6B7SVKY9  0.705636\n",
       "4  ID_GOVUZ545  0.258080"
      ]
     },
     "execution_count": 37,
     "metadata": {},
     "output_type": "execute_result"
    }
   ],
   "source": [
    "sub.head()"
   ]
  },
  {
   "cell_type": "code",
   "execution_count": 38,
   "metadata": {},
   "outputs": [],
   "source": [
    "sub['Response'] = np.where(sub['Response']>=0.5, 1, 0)"
   ]
  },
  {
   "cell_type": "code",
   "execution_count": 39,
   "metadata": {},
   "outputs": [
    {
     "data": {
      "text/plain": [
       "0    557\n",
       "1    115\n",
       "Name: Response, dtype: int64"
      ]
     },
     "execution_count": 39,
     "metadata": {},
     "output_type": "execute_result"
    }
   ],
   "source": [
    "sub['Response'].value_counts()"
   ]
  },
  {
   "cell_type": "code",
   "execution_count": 40,
   "metadata": {},
   "outputs": [],
   "source": [
    "sub.to_csv('m8.csv', index=False)"
   ]
  },
  {
   "cell_type": "code",
   "execution_count": null,
   "metadata": {},
   "outputs": [],
   "source": []
  }
 ],
 "metadata": {
  "kernelspec": {
   "display_name": "Python 3",
   "language": "python",
   "name": "python3"
  },
  "language_info": {
   "codemirror_mode": {
    "name": "ipython",
    "version": 3
   },
   "file_extension": ".py",
   "mimetype": "text/x-python",
   "name": "python",
   "nbconvert_exporter": "python",
   "pygments_lexer": "ipython3",
   "version": "3.8.8"
  }
 },
 "nbformat": 4,
 "nbformat_minor": 4
}
